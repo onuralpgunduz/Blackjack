{
  "metadata": {
    "language_info": {
      "codemirror_mode": {
        "name": "python",
        "version": 3
      },
      "file_extension": ".py",
      "mimetype": "text/x-python",
      "name": "python",
      "nbconvert_exporter": "python",
      "pygments_lexer": "ipython3",
      "version": "3.8"
    },
    "kernelspec": {
      "name": "python",
      "display_name": "Pyolite",
      "language": "python"
    }
  },
  "nbformat_minor": 4,
  "nbformat": 4,
  "cells": [
    {
      "cell_type": "code",
      "source": "deck = ['2', '3', '4', '5', '6', '7', '8', '9', 'king', 'queen', 'jack', 'ace', '2', '3', '4', '5', '6', '7', '8', '9', 'king', 'queen', 'jack', 'ace', '2', '3', '4', '5', '6', '7', '8', '9', 'king', 'queen', 'jack', 'ace', '2', '3', '4', '5', '6', '7', '8', '9', 'king', 'queen', 'jack', 'ace']",
      "metadata": {
        "trusted": true
      },
      "execution_count": 1,
      "outputs": []
    },
    {
      "cell_type": "code",
      "source": "import random\n\n\nmyDeck = [\"2\", \"3\", \"4\", \"5\", \"6\", \"7\", \"8\", \"9\", \"king\", \"queen\", \"jack\", \"ace\"]\n# myDeck*=4\n\n#hit\ndef draw(deck):\n    lenOfDeck = len(deck)\n    rng = random.randint(0,lenOfDeck-1)\n    return deck.pop(rng)\n\n#I am not sure whether it checks all conditions\n#but works\n\n#oyuncu kart toplamı\ndef sumCards(cards):\n    \n    sumOfCards = 0\n    if \"ace\" in cards:\n\n        cards[cards.index(\"ace\")], cards[-1] = cards[-1], cards[cards.index(\"ace\")]\n\n    for i in cards:\n        if i == \"king\" or i == \"queen\" or i == \"jack\":\n\n            print(i, end=\"\\n\")\n            sumOfCards += 10\n\n        elif i != \"ace\":\n\n            sumOfCards += int(i)\n            print(i, end=\"\\n\")\n        else:\n\n            print(i, end=\"\\n\")\n            if(sumOfCards + 11 > 21):\n                sumOfCards +=1\n            else:\n\n                sumOfCards += 11\n\n#kurupiyer kart çeker\ndef dealerUpCard(deck):\n    return draw(deck)\n",
      "metadata": {
        "trusted": true
      },
      "execution_count": 2,
      "outputs": []
    },
    {
      "cell_type": "code",
      "source": "dealersCard = dealerUpCard(myDeck)\n\n\n#checks if Player should split or not\ndef checkPair(cards):\n    if len(cards) != 2:\n        return False\n    \n    else:\n        if cards[0] == cards[1]:\n            return True\n        else:\n            return False\n            \n    \n#draws and appends to cards list \ndef drawAndAppend(deck, cardsList):\n    cardsList.append(draw(deck))\n    return cardsList\n\n# Checks if cards should be splitted\ndef checkSplit(cards, dCard):\n    if dCard == \"ace\":\n        if int(cards[0]) == 8 or cards[0] == \"ace\":\n            return True\n        return False\n     elif dCard == \"jack\" or dCard == \"queen\" or dCard == \"king\":\n        if int(cards[0]) == 8 or cards[0] == \"ace\":\n            return True\n        return False\n    else:\n        if cards[0] == \"jack\" or cards[0] == \"queen\" or cards[0] == \"king\":\n            return False\n        elif cards[0] == \"ace\":\n            return True\n        else:\n            if int(cards[0]) == 2:\n                if int(dCard) >= 2 and int(dCard) <= 7:\n                    return True\n                return False\n            elif int(cards[0]) == 3:\n                if int(dCard) >= 2 and int(dCard) <= 7:\n                    return True\n                return False\n            elif int(cards[0]) == 4:\n                if int(dCard) >= 5 and int(dCard) <= 6:\n                    return True\n                return False\n            elif int(cards[0]) == 6:\n                if int(dCard) >= 2 and int(dCard) <= 6:\n                    return True\n                return False\n            elif int(cards[0]) == 7:\n                if int(dCard) >= 2 and int(dCard) <= 7:\n                    return True\n                return False\n            elif int(cards[0]) == 8:\n                return True\n            elif int(cards[0]) == 9:\n                if int(cards[0]) <= 6 or int(cards[0]) >= 2 or int(cards[0]) == 8 or int(cards[0]) == 9:\n                    return True\n                return False\n                \n\n#Split\ndef Split(cards, splittedDeck):\n    splittedDeck[0] = cards[0]\n    del cards[1]\n\ndef player(deck, dCard):\n    \n    cards = []\n    splittedDeck1 = []\n    splittedDeck2 = []\n    splittedDeck3 = []\n    \n    \n    #first draw\n    drawAndAppend(myDeck, cards)\n    \n    \n    while(sumOfCards(cards) < 5 ):\n        if len(cards) != 2:\n            drawAndAppend(myDeck,cards)\n        else:\n            if checkPair(cards) == True:\n                if checkSplit(cards,dCard) == True:\n                    Split(cards,splittedDeck1)\n                    drawAndAppend(myDeck, splittedDeck1)\n                    drawAndAppend(myDeck,cards)\n                else:\n                    if int(cards[0]) == 10 or int(cards[0]) == 9:\n                        return cards\n                    else:\n                        drawAndAppend(myDeck,cards)\n            \n            elif checkPair(splittedDeck1) == True:\n                if checkSplit(splittedDeck1,dCard) == True:\n                    Split(splittedDeck1,splittedDeck2)\n                    drawAndAppend(myDeck, splittedDeck2)\n                    drawAndAppend(myDeck,splittedDeck1)\n                else:\n                    drawAndAppend(myDeck,siplittedDeck1)\n                    \n            elif checkPair(splittedDeck2) == True:\n                if checkSplit(splittedDeck2,dCard) == True:\n                    Split(splittedDeck2,splittedDeck3)\n                    drawAndAppend(myDeck, splittedDeck3)\n                    drawAndAppend(myDeck,splittedDeck2)\n                else:\n                drawAndAppend(myDeck,splittedDeck2)\n                \n            else:\n                drawAndAppend(myDeck,cards)\n                \ndef checkCardArrays(cards):\n    #possible cases when only one card is drawn\n    \n    # >= 5 sum <= 8\n    if sumCards(cards) >= 5 and sumCards <= 8:\n        #second draw\n        drawAndAppend(myDeck, cards)\n        \n    #equals to 9\n    elif sumCards(cards) == 9:\n        if dealersCard >= 3 and dealersCard <= 6:\n            #double\n            pass\n        else:\n            drawAndAppend(myDeck, cards)\n    \n    #equals to 10\n    elif sumOfCards(cards) == 10:\n        \n        if dealersCard >= 2 and dealersCard <= 10:\n            #double\n            pass\n        else:\n            drawAndAppend(myDeck, cards)\n            \n    #I need at least 2 cards to get in  these conditions\n    #no idea if a recursion is necessary\n    \n    else:\n        drawAndAppend(myDeck, cards)\n        \n        # >= 17\n        if sumOfCards(cards) >= 17:\n            #stand\n            return sumOfCards(cards)\n        \n        #if dealers up card <=6 stand\n        \n        if (dealersCard <= 6 and dealersCard >= 2) and (sumOfCards(cards) <= 16 and sumOfCards(cards) >= 13):\n            #stand\n            return sumOfCards(cards)",
      "metadata": {
        "trusted": true
      },
      "execution_count": null,
      "outputs": []
    },
    {
      "cell_type": "markdown",
      "source": " \n  \"\"\" \n  **AADFA-**\n    #possible cases when only one card is drawn\n    \n    # >= 5 sum <= 8\n    if sumCards(cards) >= 5 and sumCards <= 8:\n        #second draw\n        drawAndAppend(myDeck, cards)\n        \n    #equals to 9\n    elif sumCards(cards) == 9:\n        if dealersCard >= 3 and dealersCard <= 6:\n            #double\n            pass\n        else:\n            drawAndAppend(myDeck, cards)\n    \n    #equals to 10\n    elif sumOfCards(cards) == 10:\n        \n        if dealersCard >= 2 and dealersCard <= 10:\n            #double\n            pass\n        else:\n            drawAndAppend(myDeck, cards)\n            \n    #I need at least 2 cards to get in  these conditions\n    #no idea if a recursion is necessary\n    \n    else:\n        drawAndAppend(myDeck, cards)\n        \n        # >= 17\n        if sumOfCards(cards) >= 17:\n            #stand\n            return sumOfCards(cards)\n        \n        #if dealers up card <=6 stand\n        \n        if (dealersCard <= 6 and dealersCard >= 2) and (sumOfCards(cards) <= 16 and sumOfCards(cards) >= 13)\n            #stand\n            return sumOfCards(cards)\n\"\"\"",
      "metadata": {}
    },
    {
      "cell_type": "code",
      "source": "",
      "metadata": {},
      "execution_count": null,
      "outputs": []
    }
  ]
}